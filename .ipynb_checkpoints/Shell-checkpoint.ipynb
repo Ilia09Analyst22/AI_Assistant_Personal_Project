{
 "cells": [
  {
   "cell_type": "code",
   "execution_count": 1,
   "id": "c6d8e350",
   "metadata": {},
   "outputs": [
    {
     "name": "stdout",
     "output_type": "stream",
     "text": [
      "Would you like to run an interactive session? Please respond 'Yes' or 'No': No\n"
     ]
    }
   ],
   "source": [
    "# Module for Running a Simple Command Shell\n",
    "from logging import Logger\n",
    "import os\n",
    "\n",
    "class Command:\n",
    "    interactive = input(\"Would you like to run an interactive session? Please respond 'Yes' or 'No': \")\n",
    "    def __init__(self, cmd: str, args: list[str]):\n",
    "        self.cmd = cmd\n",
    "        self.args = args\n",
    "    \n",
    "    def run_terminal(self) -> list[str]:\n",
    "        cmdline = input()\n",
    "        return cmdline.strip().split()\n",
    "    \n",
    "    def checker(self) -> bool:\n",
    "        if self.interactive == \"Yes\":\n",
    "            return True\n",
    "        if self.interactive == \"No\":\n",
    "            return False\n",
    "        else:\n",
    "            Logger.error(\"Invalid input\")\n",
    "        return False\n",
    "\n",
    "    def run_command(self) -> str:\n",
    "        query = self.run_terminal()\n",
    "        arg_ref = {\"IPAddress\": \"192.168.88.14\", \"IPSubnet\": \"255.255.255.0\",\n",
    "                   \"MacAddress\": \"ax4kfnw94jfeqw\", \"DefaultGateway\": \"1.1.1.1\"}\n",
    "        ret = \"\"\n",
    "        if self.checker():\n",
    "            cm, ar = query\n",
    "            if ar in arg_ref and cm == \"get\":\n",
    "                ret = arg_ref.get(ar, \"\")\n",
    "            elif ar in arg_ref and cm == \"set\":\n",
    "                ret = print(f\"{ar} set to {arg_ref[ar]}\")\n",
    "            else:\n",
    "                raise Exception (\"Invalid command was entered\")\n",
    "        else:\n",
    "            for arg in self.args:\n",
    "                if arg in arg_ref.keys() and self.cmd == \"get\":\n",
    "                    ret = arg_ref.get(arg, \"\")\n",
    "                elif arg in arg_ref.keys() and self.cmd == \"set\":\n",
    "                    ret = print(f\"{arg} set to {arg_ref[arg]}\")\n",
    "                else:\n",
    "                    raise Exception (\"Invalid command was entered\")\n",
    "        return ret\n",
    "\n",
    "    def debug(self) -> str:\n",
    "        Logger.debug(\"Searching for problems in the terminal..\")\n",
    "        \n",
    "        try:\n",
    "            self.run_command()\n",
    "        except Exception as e:\n",
    "            Logger.error(f\"An error has occurred in the script: {e}\")\n",
    "        return \"Pass\""
   ]
  },
  {
   "cell_type": "code",
   "execution_count": 2,
   "id": "eb54e2a9",
   "metadata": {
    "scrolled": true
   },
   "outputs": [
    {
     "name": "stdout",
     "output_type": "stream",
     "text": [
      "set IPAddress\n"
     ]
    },
    {
     "ename": "Exception",
     "evalue": "Invalid command was entered",
     "output_type": "error",
     "traceback": [
      "\u001b[1;31m---------------------------------------------------------------------------\u001b[0m",
      "\u001b[1;31mException\u001b[0m                                 Traceback (most recent call last)",
      "Cell \u001b[1;32mIn[2], line 2\u001b[0m\n\u001b[0;32m      1\u001b[0m session \u001b[38;5;241m=\u001b[39m Command(\u001b[38;5;124m\"\u001b[39m\u001b[38;5;124mset\u001b[39m\u001b[38;5;124m\"\u001b[39m,\u001b[38;5;124m\"\u001b[39m\u001b[38;5;124mIPAddress\u001b[39m\u001b[38;5;124m\"\u001b[39m)\n\u001b[1;32m----> 2\u001b[0m session\u001b[38;5;241m.\u001b[39mrun_command()\n",
      "Cell \u001b[1;32mIn[1], line 44\u001b[0m, in \u001b[0;36mCommand.run_command\u001b[1;34m(self)\u001b[0m\n\u001b[0;32m     42\u001b[0m             ret \u001b[38;5;241m=\u001b[39m \u001b[38;5;28mprint\u001b[39m(\u001b[38;5;124mf\u001b[39m\u001b[38;5;124m\"\u001b[39m\u001b[38;5;132;01m{\u001b[39;00marg\u001b[38;5;132;01m}\u001b[39;00m\u001b[38;5;124m set to \u001b[39m\u001b[38;5;132;01m{\u001b[39;00marg_ref[arg]\u001b[38;5;132;01m}\u001b[39;00m\u001b[38;5;124m\"\u001b[39m)\n\u001b[0;32m     43\u001b[0m         \u001b[38;5;28;01melse\u001b[39;00m:\n\u001b[1;32m---> 44\u001b[0m             \u001b[38;5;28;01mraise\u001b[39;00m \u001b[38;5;167;01mException\u001b[39;00m (\u001b[38;5;124m\"\u001b[39m\u001b[38;5;124mInvalid command was entered\u001b[39m\u001b[38;5;124m\"\u001b[39m)\n\u001b[0;32m     45\u001b[0m \u001b[38;5;28;01mreturn\u001b[39;00m ret\n",
      "\u001b[1;31mException\u001b[0m: Invalid command was entered"
     ]
    }
   ],
   "source": [
    "session = Command(\"set\",\"IPAddress\")\n",
    "session.run_command()"
   ]
  },
  {
   "cell_type": "code",
   "execution_count": 26,
   "id": "2e6d873f",
   "metadata": {},
   "outputs": [],
   "source": [
    "# Developing a Dynamic Config Shell\n",
    "\n",
    "class Shell(Command):\n",
    "    def __init__(self):\n",
    "        cmdline = input()\n",
    "        self.cmd = cmdline\n",
    "    \n",
    "    # Tokenize the command word for word\n",
    "    def _organize(self) -> list[str]:\n",
    "        return self.cmd.strip().split()\n",
    "    \n",
    "    # If user wants to enter another command\n",
    "    def _next(self, yes: bool) -> bool:\n",
    "        return True if yes else False\n",
    "    \n",
    "    # Simulating Some Madeup Windows Command Shell\n",
    "    def runner(self):\n",
    "        device = {\"ip\": \"192.168.88.14\", \"subnet\": \"255.255.255.0\",\n",
    "                \"mac\": \"ax4kfnw94jfeqw\", \"default_gateway\": \"1.1.1.1\",\n",
    "                \"router\":\"RogersIgniteXL\", \"os\": \"Windows12\", \n",
    "                \"ssid\": \"Coextro_TP-Link_8E43\", \"ipv6\": \"fd00::12fb:8803:6ee0:3092\",\n",
    "                 \"cwd\": os.getcwd(), \"manufact\": \"Intel Corp.\"}\n",
    "        \n",
    "        forbidden = [\"mac\", \"router\", \"os\", \"ssid\"]\n",
    "        \n",
    "        spec_char = [\"-f\", \"-i\", \"-v\", \"-q\", \"-m\", \"CRITICAL\"]\n",
    "        \n",
    "        cmdlist = self._organize()\n",
    "        \n",
    "        keyfinder = next((prop for prop in device if prop in cmdlist), None)\n",
    "\n",
    "        if not keyfinder and cmdlist[0] not in [\"listdir\", \"chdir\", \"mkdir\", \"remove\"]:\n",
    "            print(\"ERROR: No valid property specified.\")\n",
    "            return\n",
    "\n",
    "        if cmdlist[0] == \"get\" and \"-i\" in cmdlist:\n",
    "            print(f\"{keyfinder}: {device[keyfinder]}\")\n",
    "            ask = input(\"Do you want to enter another command? Please enter 'yes' or 'no': \")\n",
    "            if ask == \"yes\":\n",
    "                pass\n",
    "            else:\n",
    "                return\n",
    "\n",
    "        elif cmdlist[0] == \"get\" and \"-v\" in cmdlist:\n",
    "            print(f\"{keyfinder}: {device[keyfinder]}\")\n",
    "            return\n",
    "\n",
    "        elif cmdlist[0] == \"set\" and \"-i\" in cmdlist and keyfinder not in forbidden:\n",
    "            print(f\"{keyfinder} = {device[keyfinder]}; new {keyfinder}:\")\n",
    "            new = input()\n",
    "            device[keyfinder] = new\n",
    "            return\n",
    "\n",
    "        elif cmdlist[0] == \"set\" and \"-v\" in cmdlist and keyfinder not in forbidden:\n",
    "            device[keyfinder] = cmdlist[-1]\n",
    "            return\n",
    "\n",
    "        elif cmdlist[0] == \"chdir\":\n",
    "            os.chdir()\n",
    "        elif cmdlist[0] == \"mkdir\":\n",
    "            os.mkdir(os.getcwd())\n",
    "        elif cmdlist[0] == \"listdir\":\n",
    "            print(os.listdir(os.getcwd()))\n",
    "        elif cmdlist[0] == \"remove\" and cmdlist[1] == \"dir\" and cmdlist[3] == \"-f\":\n",
    "            try:\n",
    "                os.rmdir(cmdlist[2])\n",
    "            except Exception:\n",
    "                print(\"Invalid parameter provided\")\n",
    "        \n",
    "        elif cmdlist[0] == \"remove\" and cmdlist[1] == \"file\" and cmdlist[3] == \"-f\":\n",
    "                os.remove(cmdlist[2])\n",
    "        elif (\"-m\" in cmdlist or \"CRITICAL\" in cmdlist) and (cmdlist[1] in forbidden):\n",
    "            print(\"**WARNING: WHAT YOU ARE ABOUT TO DO MAY CAUSE SERIOUS DAMAGE TO YOUR DEVICE.\")\n",
    "            print(\"ERROR: You must obtain special permission from the manufacturer in order to perform this action.\")\n",
    "        elif keyfinder in forbidden:\n",
    "            print(\"ERROR: Permission denied. To learn more about the reason for this error, enter 'CRITICAL' or '-m'\")\n",
    "        else:\n",
    "            print(\"ERROR: Invalid command entered.\")\n",
    "        "
   ]
  },
  {
   "cell_type": "code",
   "execution_count": 14,
   "id": "05e57f09",
   "metadata": {},
   "outputs": [
    {
     "name": "stdout",
     "output_type": "stream",
     "text": [
      "-m router\n",
      "**WARNING: WHAT YOU ARE ABOUT TO DO MAY CAUSE SERIOUS DAMAGE TO YOUR DEVICE.\n",
      "ERROR: You must obtain special permission from the manufacturer in order to perform this action.\n"
     ]
    }
   ],
   "source": [
    "query = Shell()\n",
    "query.runner()"
   ]
  },
  {
   "cell_type": "code",
   "execution_count": 18,
   "id": "83e34dc6",
   "metadata": {},
   "outputs": [
    {
     "name": "stdout",
     "output_type": "stream",
     "text": [
      "get -v router\n",
      "router: RogersIgniteXL\n"
     ]
    }
   ],
   "source": [
    "q = Shell()\n",
    "q.runner()"
   ]
  },
  {
   "cell_type": "code",
   "execution_count": 19,
   "id": "20ab26e7",
   "metadata": {},
   "outputs": [
    {
     "name": "stdout",
     "output_type": "stream",
     "text": [
      "set -v router\n",
      "ERROR: Permission denied. To learn more about the reason for this error, enter 'CRITICAL' or '-m'\n"
     ]
    }
   ],
   "source": [
    "qry = Shell()\n",
    "qry.runner()"
   ]
  },
  {
   "cell_type": "code",
   "execution_count": 27,
   "id": "4a381edd",
   "metadata": {},
   "outputs": [
    {
     "name": "stdout",
     "output_type": "stream",
     "text": [
      "listdir\n",
      "ERROR: No valid property specified.\n"
     ]
    }
   ],
   "source": [
    "que = Shell()\n",
    "que.runner()"
   ]
  },
  {
   "cell_type": "code",
   "execution_count": null,
   "id": "98c89eeb",
   "metadata": {},
   "outputs": [],
   "source": []
  }
 ],
 "metadata": {
  "kernelspec": {
   "display_name": "Python 3 (ipykernel)",
   "language": "python",
   "name": "python3"
  },
  "language_info": {
   "codemirror_mode": {
    "name": "ipython",
    "version": 3
   },
   "file_extension": ".py",
   "mimetype": "text/x-python",
   "name": "python",
   "nbconvert_exporter": "python",
   "pygments_lexer": "ipython3",
   "version": "3.11.3"
  }
 },
 "nbformat": 4,
 "nbformat_minor": 5
}
